{
 "cells": [
  {
   "cell_type": "code",
   "execution_count": 1,
   "metadata": {},
   "outputs": [
    {
     "data": {
      "image/png": "[encoded data removed]",
      "text/plain": [
       "<Figure size 283.465x198.425 with 1 Axes>"
      ]
     },
     "metadata": {},
     "output_type": "display_data"
    }
   ],
   "source": [
    "from matplotlib import rc\n",
    "%matplotlib inline\n",
    "import daft\n",
    "import matplotlib.pylab as plt\n",
    "from matplotlib.patches import Rectangle\n",
    "rc(\"font\", family=\"serif\", size=12)\n",
    "rc(\"text\", usetex=True)\n",
    "\n",
    "\n",
    "\n",
    "# Colors.\n",
    "p_color = {\"ec\": \"#46a546\"}\n",
    "s_color = {\"ec\": \"#f89406\"}\n",
    "\n",
    "pgm = daft.PGM([5, 3.5], origin=[-1.0, 0])\n",
    "\n",
    "v_gamma = daft.Node(\"Gamma\", r\"${\\Gamma}$\", 2, 2, plot_params=s_color)\n",
    "v_w = daft.Node(\"W\", r\"${\\mathbf{W}}$\", 2, 1, plot_params=s_color)\n",
    "v_a = daft.Node(\"H\", r\"$\\mathbf{h}$\", 0, 2, plot_params=s_color, fixed=False)\n",
    "v_theta = daft.Node(\"T\", r\"$\\theta$\", 0, 1.2, plot_params=s_color, fixed=False)\n",
    "v_q = daft.Node(\"q\", r\"q\", 1, 1.2, plot_params={'ec':'#000000', 'fc':'#000000'}, \n",
    "                offset=[5,15], scale=0.3, fixed=False)\n",
    "\n",
    "\n",
    "v_x = daft.Node(\"X\", r\"$\\mathbf{x}_i$\", 3, 2, plot_params=s_color, observed=True)\n",
    "v_y = daft.Node(\"Y\", r\"${y}_i$\", 3, 1, plot_params=s_color, observed=True)\n",
    "\n",
    "\n",
    "\n",
    "\n",
    "\n",
    "pgm.add_node(v_gamma)\n",
    "pgm.add_node(v_w)\n",
    "pgm.add_node(v_a)\n",
    "pgm.add_node(v_y)\n",
    "pgm.add_node(v_x)\n",
    "pgm.add_node(v_theta)\n",
    "pgm.add_node(v_q)\n",
    "pgm.add_edge(\"Gamma\", \"Y\")\n",
    "pgm.add_edge(\"H\", \"T\")\n",
    "pgm.add_edge(\"H\", \"T\")\n",
    "pgm.add_edge(\"T\", \"q\")\n",
    "pgm.add_edge(\"q\", \"Gamma\")\n",
    "pgm.add_edge(\"q\", \"W\")\n",
    "pgm.add_edge(\"W\", \"Y\")\n",
    "pgm.add_edge(\"X\", \"Y\")\n",
    "pgm.add_edge(\"Gamma\", \"W\")\n",
    "pgm.add_plate(daft.Plate([2.5, 0.5, 1.3, 2],    shift=-0.1, label=r\"$i = 1, \\cdots, m$\",bbox={\"color\": \"none\"}))\n",
    "pgm.render()\n",
    "\n",
    "pgm.figure.savefig(\"./plate.pdf\")"
   ]
  },
  {
   "cell_type": "code",
   "execution_count": 25,
   "metadata": {},
   "outputs": [
    {
     "data": {
      "image/png": "[encoded data removed]",
      "text/plain": [
       "<Figure size 198.425x141.732 with 1 Axes>"
      ]
     },
     "metadata": {},
     "output_type": "display_data"
    }
   ],
   "source": [
    "from matplotlib import rc\n",
    "%matplotlib inline\n",
    "import daft\n",
    "import matplotlib.pylab as plt\n",
    "from matplotlib.patches import Rectangle\n",
    "rc(\"font\", family=\"serif\", size=12)\n",
    "rc(\"text\", usetex=True)\n",
    "\n",
    "\n",
    "\n",
    "# Colors.\n",
    "p_color = {\"ec\": \"#46a546\"}\n",
    "s_color = {\"ec\": \"#f89406\"}\n",
    "\n",
    "pgm = daft.PGM([3.5, 2.5], origin=[0.5, 0])\n",
    "\n",
    "v_gamma = daft.Node(\"Gamma\", r\"${\\Gamma}$\", 2, 2, plot_params=s_color)\n",
    "v_w = daft.Node(\"W\", r\"${\\mathbf{W}}$\", 2, 1, plot_params=s_color)\n",
    "v_a = daft.Node(\"H\", r\"$\\mathbf{h}$\", 1, 2, plot_params=s_color, fixed=False)\n",
    "v_theta = daft.Node(\"T\", r\"$\\theta$\", 0, 1.2, plot_params=s_color, fixed=False)\n",
    "v_q = daft.Node(\"q\", r\"q\", 1, 1.2, plot_params={'ec':'#000000', 'fc':'#000000'}, \n",
    "                offset=[5,15], scale=0.3, fixed=False)\n",
    "\n",
    "\n",
    "v_x = daft.Node(\"X\", r\"$\\mathbf{x}_i$\", 3, 2, plot_params=s_color, observed=True)\n",
    "v_y = daft.Node(\"Y\", r\"${y}_i$\", 3, 1, plot_params=s_color, observed=True)\n",
    "\n",
    "\n",
    "\n",
    "\n",
    "\n",
    "pgm.add_node(v_gamma)\n",
    "pgm.add_node(v_w)\n",
    "pgm.add_node(v_a)\n",
    "pgm.add_node(v_y)\n",
    "pgm.add_node(v_x)\n",
    "#pgm.add_node(v_theta)\n",
    "#pgm.add_node(v_q)\n",
    "pgm.add_edge(\"Gamma\", \"Y\")\n",
    "pgm.add_edge(\"H\", \"W\")\n",
    "pgm.add_edge(\"H\", \"Gamma\")\n",
    "#pgm.add_edge(\"H\", \"T\")\n",
    "#pgm.add_edge(\"T\", \"q\")\n",
    "#pgm.add_edge(\"q\", \"Gamma\")\n",
    "#pgm.add_edge(\"q\", \"W\")\n",
    "pgm.add_edge(\"W\", \"Y\")\n",
    "pgm.add_edge(\"X\", \"Y\")\n",
    "pgm.add_edge(\"Gamma\", \"W\")\n",
    "pgm.add_plate(daft.Plate([2.5, 0.5, 1.3, 2],    shift=-0.1, label=r\"$i = 1, \\cdots, m$\",bbox={\"color\": \"none\"}))\n",
    "pgm.render()\n",
    "\n",
    "pgm.figure.savefig(\"./simple_plate.pdf\")"
   ]
  },
  {
   "cell_type": "code",
   "execution_count": 31,
   "metadata": {},
   "outputs": [
    {
     "data": {
      "image/png": "[encoded data removed]",
      "text/plain": [
       "<Figure size 198.425x141.732 with 1 Axes>"
      ]
     },
     "metadata": {},
     "output_type": "display_data"
    }
   ],
   "source": [
    "from matplotlib import rc\n",
    "%matplotlib inline\n",
    "import daft\n",
    "import matplotlib.pylab as plt\n",
    "from matplotlib.patches import Rectangle\n",
    "rc(\"font\", family=\"serif\", size=12)\n",
    "rc(\"text\", usetex=True)\n",
    "\n",
    "\n",
    "\n",
    "# Colors.\n",
    "p_color = {\"ec\": \"#46a546\"}\n",
    "s_color = {\"ec\": \"#f89406\"}\n",
    "\n",
    "pgm = daft.PGM([3.5, 2.5], origin=[0.5, 0])\n",
    "\n",
    "v_gamma = daft.Node(\"Gamma\", r\"${\\Gamma}$\", 2, 2, plot_params=s_color)\n",
    "v_w = daft.Node(\"W\", r\"${\\mathbf{W}}$\", 2, 1, plot_params=s_color)\n",
    "v_a = daft.Node(\"A\", r\"$\\mathbf{A}$\", 1, 1, plot_params=s_color, fixed=False)\n",
    "v_s = daft.Node(\"S\", r\"$\\mathbf{s}$\", 1, 2, plot_params=s_color, fixed=False)\n",
    "\n",
    "v_theta = daft.Node(\"T\", r\"$\\theta$\", 0, 1.2, plot_params=s_color, fixed=False)\n",
    "\n",
    "\n",
    "v_q = daft.Node(\"q\", r\"q\", 1, 1.2, plot_params={'ec':'#000000', 'fc':'#000000'}, \n",
    "                offset=[5,15], scale=0.3, fixed=False)\n",
    "\n",
    "\n",
    "v_x = daft.Node(\"X\", r\"$\\mathbf{x}_i$\", 3, 2, plot_params=s_color, observed=True)\n",
    "v_y = daft.Node(\"Y\", r\"${y}_i$\", 3, 1, plot_params=s_color, observed=True)\n",
    "\n",
    "\n",
    "\n",
    "\n",
    "\n",
    "\n",
    "pgm.add_node(v_gamma)\n",
    "pgm.add_node(v_w)\n",
    "pgm.add_node(v_a)\n",
    "pgm.add_node(v_s)\n",
    "pgm.add_node(v_y)\n",
    "pgm.add_node(v_x)\n",
    "#pgm.add_node(v_theta)\n",
    "#pgm.add_node(v_q)\n",
    "pgm.add_edge(\"Gamma\", \"Y\")\n",
    "pgm.add_edge(\"A\", \"W\")\n",
    "pgm.add_edge(\"S\", \"Gamma\")\n",
    "#pgm.add_edge(\"H\", \"T\")\n",
    "#pgm.add_edge(\"T\", \"q\")\n",
    "#pgm.add_edge(\"q\", \"Gamma\")\n",
    "#pgm.add_edge(\"q\", \"W\")\n",
    "pgm.add_edge(\"W\", \"Y\")\n",
    "pgm.add_edge(\"X\", \"Y\")\n",
    "pgm.add_edge(\"Gamma\", \"W\")\n",
    "pgm.add_plate(daft.Plate([2.5, 0.5, 1.3, 2],    shift=-0.1, label=r\"$i = 1, \\cdots, m$\",bbox={\"color\": \"none\"}))\n",
    "pgm.render()\n",
    "\n",
    "pgm.figure.savefig(\"./simple_plate_concrete.pdf\")"
   ]
  }
 ],
 "metadata": {
  "kernelspec": {
   "display_name": "Python 3",
   "language": "python",
   "name": "python3"
  },
  "language_info": {
   "codemirror_mode": {
    "name": "ipython",
    "version": 3
   },
   "file_extension": ".py",
   "mimetype": "text/x-python",
   "name": "python",
   "nbconvert_exporter": "python",
   "pygments_lexer": "ipython3",
   "version": "3.5.2"
  }
 },
 "nbformat": 4,
 "nbformat_minor": 2
}
